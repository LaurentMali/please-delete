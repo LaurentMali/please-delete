{
 "cells": [
  {
   "cell_type": "markdown",
   "id": "da95ea56-9842-4865-b595-7eda44a51101",
   "metadata": {},
   "source": [
    "# Eco-Points\n",
    "## Datenanalyse"
   ]
  },
  {
   "cell_type": "markdown",
   "id": "a0fe20bb-b197-4b94-bd0e-ed3759cdb3a7",
   "metadata": {},
   "source": []
  }
 ],
 "metadata": {
  "kernelspec": {
   "display_name": "Python 3 (ipykernel)",
   "language": "python",
   "name": "python3"
  },
  "language_info": {
   "codemirror_mode": {
    "name": "ipython",
    "version": 3
   },
   "file_extension": ".py",
   "mimetype": "text/x-python",
   "name": "python",
   "nbconvert_exporter": "python",
   "pygments_lexer": "ipython3",
   "version": "3.12.0"
  }
 },
 "nbformat": 4,
 "nbformat_minor": 5
}
